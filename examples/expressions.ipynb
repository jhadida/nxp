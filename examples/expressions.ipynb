{
 "cells": [
  {
   "cell_type": "code",
   "execution_count": 1,
   "metadata": {},
   "outputs": [],
   "source": [
    "# --- This is not needed if NXP is installed --- #\n",
    "import sys\n",
    "import os.path as op\n",
    "\n",
    "# add the src/ directory to the Python path\n",
    "sys.path.insert(0,op.realpath('../src'))\n",
    "import nxp"
   ]
  },
  {
   "cell_type": "markdown",
   "metadata": {},
   "source": [
    "\n",
    "# Matching expressions with NXP\n",
    "\n",
    "In this short tutorial, we will see how to define and match text patterns using NXP.\n"
   ]
  },
  {
   "cell_type": "markdown",
   "metadata": {},
   "source": [
    "## Matching numbers\n",
    "\n",
    "As a first example, we will try to find numbers in a given string. <br>\n",
    "Numbers in text are usually integers or floating-point numbers, so we first define a regular expression for each case separately:"
   ]
  },
  {
   "cell_type": "code",
   "execution_count": 3,
   "metadata": {},
   "outputs": [],
   "source": [
    "from nxp import Regex\n",
    "\n",
    "num_integer = Regex( r'-?\\d+' )\n",
    "num_float = Regex( r'-?\\d*\\.\\d+([eE][-+]?\\d+)?' )"
   ]
  },
  {
   "cell_type": "markdown",
   "metadata": {},
   "source": [
    "In order to match integers and floating-point numbers alike, these expressions need to be combined. To do so, we use the alias `Either`, which is equivalent to (but clearer than): `Set( [TokenList], max=1 )`"
   ]
  },
  {
   "cell_type": "code",
   "execution_count": 4,
   "metadata": {},
   "outputs": [
    {
     "name": "stdout",
     "output_type": "stream",
     "text": [
      "{-?\\d+, -?\\d*\\.\\d+([eE][-+]?\\d+)?}\n"
     ]
    }
   ],
   "source": [
    "from nxp import Either\n",
    "\n",
    "number = Either( num_integer, num_float )\n",
    "print(number) "
   ]
  },
  {
   "cell_type": "markdown",
   "metadata": {},
   "source": [
    "When printed, notice how the two patterns are regrouped within a curly-bracket delimited list; in NXP, token sets are represented with curly brackets `{}`, and sequences with square brackets `[]`.\n",
    "\n",
    "Great, now let's try to match a string with numbers in it!"
   ]
  },
  {
   "cell_type": "code",
   "execution_count": 5,
   "metadata": {},
   "outputs": [
    {
     "name": "stdout",
     "output_type": "stream",
     "text": [
      "[<nxp.expr.match.TMatch object at 0x7fd788f63d18>, <nxp.expr.match.TMatch object at 0x7fd788f63db8>, <nxp.expr.match.TMatch object at 0x7fd788f63e58>]\n"
     ]
    }
   ],
   "source": [
    "matches = nxp.findall( number, 'sqrt(2) is approximately equal to 1.414' )\n",
    "print(matches)"
   ]
  },
  {
   "cell_type": "markdown",
   "metadata": {},
   "source": [
    "Ok, why are there 3 matches?"
   ]
  },
  {
   "cell_type": "code",
   "execution_count": 6,
   "metadata": {},
   "outputs": [
    {
     "name": "stdout",
     "output_type": "stream",
     "text": [
      "(0, 5) - (0, 6) 2\n",
      "(0, 34) - (0, 35) 1\n",
      "(0, 35) - (0, 39) .414\n"
     ]
    }
   ],
   "source": [
    "for match in matches: \n",
    "    print(match)"
   ]
  },
  {
   "cell_type": "markdown",
   "metadata": {},
   "source": [
    "Hmm. It looks like the integer and decimal parts of `1.414` were matched separately.  Weird.\n",
    "\n",
    "We will find out what went wrong soon enough, but first notice taht the string representation of a match is formatted as follows:\n",
    "```\n",
    "position_begin - position_end text_matched\n",
    "```\n",
    "where the positions have the format `(line,col)`. That's cool, but wouldn't it be better to show the match within the surrounding text? \n",
    "\n",
    "Well actually, this is not directly possible, which allows us to make an important point: matches only carry restricted information in order to remain lightweight objects, and in particular they have no knowledge of the surrounding text. To make them aware, and place a match within its context, it is necessary to provide the `Buffer` object that contains the entire text.\n",
    "\n",
    "_What buffer object? We just gave a string to nxp.findall!_\n",
    "\n",
    "That's right, but under the hood, a buffer had to be created in order to wrap this string, and to generate a cursor pointing to that buffer. This might sound complicated, but in short, if you want to show more information about your matches, here is what you should do:"
   ]
  },
  {
   "cell_type": "code",
   "execution_count": 7,
   "metadata": {},
   "outputs": [
    {
     "name": "stdout",
     "output_type": "stream",
     "text": [
      "sqrt(2) is approxim\n",
      "     -             \n",
      "ely equal to 1.414\n",
      "             -    \n",
      "ly equal to 1.414\n",
      "             ----\n"
     ]
    }
   ],
   "source": [
    "text = 'sqrt(2) is approximately equal to 1.414'\n",
    "cursor = nxp.make_cursor(text)\n",
    "matches = number.findall(cursor)\n",
    "\n",
    "for match in matches:\n",
    "    print(match.insitu(cursor.buffer))"
   ]
  },
  {
   "cell_type": "markdown",
   "metadata": {},
   "source": [
    "That's better! Notice the three main differences:\n",
    "\n",
    "1. We had to manually create a cursor for the text, using `nxp.make_cursor()`.\n",
    "2. We used the token directly in order to find matches `number.findall(cursor)`, instead of calling `nxp.findall( number, text )`.\n",
    "3. Detailed information about the match is provided by the method `match.insitu(buffer)`.\n",
    "\n",
    "Great, now back to the main question: **why are there 3 matches?**\n",
    "\n",
    "Well, the [documentation](https://jhadida.github.io/nxp/#/expr/intro?id=composition) says that tokens in a set are matched *sequentially*, i.e. in the order specified. This is NOT to say that the tokens _have to_ match in that order — and in fact they do not — but rather that we _check_ for each of them in that order, one after the other. Read this again to make sure you understand the distinction.\n",
    "\n",
    "Because of this, we can diagnose why the integer and decimal parts of `1.414` were matched separately: it is because the first token `num_integer` was able to match the integer part before `num_float` was checked, and by then the cursor had already moved on to `.414`, which is actually a valid floating-point number. Does that make sense?\n",
    "\n",
    "This teaches us an important lesson when combining patterns: **when successive tokens are susceptible to match overlapping strings, it is important to list them in the \"right\" order**. In our case, we just need to reorder the tokens within the set in order to fix the problem."
   ]
  },
  {
   "cell_type": "code",
   "execution_count": 8,
   "metadata": {},
   "outputs": [
    {
     "name": "stdout",
     "output_type": "stream",
     "text": [
      "sqrt(2) is approxim\n",
      "     -             \n",
      "ely equal to 1.414\n",
      "             -----\n"
     ]
    }
   ],
   "source": [
    "number = Either( num_float, num_integer )\n",
    "matches = number.findall( cursor.reset() )\n",
    "\n",
    "for match in matches:\n",
    "    print(match.insitu(cursor.buffer))"
   ]
  },
  {
   "cell_type": "markdown",
   "metadata": {},
   "source": [
    "Now that's the output we expected!\n",
    "\n",
    "If you feel like practicing on a more complicated example, try to write an expression to capture numbers in scientific notation. E.g.: `\"The Avogadro constant is exactly equal to 6.022 140 76×10^23\"`"
   ]
  },
  {
   "cell_type": "markdown",
   "metadata": {},
   "source": [
    "## With repetitions"
   ]
  },
  {
   "cell_type": "markdown",
   "metadata": {},
   "source": [
    "In order to allow a pattern to match several times (once or more) in NXP, we can use the alias `Many`, which looks for repetitions of 2 or more patterns:"
   ]
  },
  {
   "cell_type": "code",
   "execution_count": 9,
   "metadata": {},
   "outputs": [
    {
     "name": "stdout",
     "output_type": "stream",
     "text": [
      " would a woodchuck chuck if a woodchu\n",
      "             -----------             \n"
     ]
    }
   ],
   "source": [
    "from nxp import Regex, Many, make_cursor\n",
    "\n",
    "text = 'How much wood would a woodchuck chuck if a woodchuck could chuck wood?'\n",
    "cursor = make_cursor(text)\n",
    "expr = Many( r'chuck', sep=r'\\s+' )\n",
    "\n",
    "for match in expr.finditer(cursor):\n",
    "    print(match.insitu(cursor.buffer))"
   ]
  },
  {
   "cell_type": "markdown",
   "metadata": {},
   "source": [
    "## Case insensitive"
   ]
  },
  {
   "cell_type": "markdown",
   "metadata": {},
   "source": [
    "This last example illustrates how to create case-insensitive patterns (by default, patterns are case-sensitive):"
   ]
  },
  {
   "cell_type": "code",
   "execution_count": 10,
   "metadata": {},
   "outputs": [
    {
     "name": "stdout",
     "output_type": "stream",
     "text": [
      "## CASE SENSITIVE ##\n",
      "Abracadabra! Abraham Lin\n",
      "    -------             \n",
      "## CASE INSENSITIVE ##\n",
      "Abracadabra! Abra\n",
      "----             \n",
      "Abracadabra! Abraham\n",
      "    ---             \n",
      "Abracadabra! Abraham Lin\n",
      "       ----             \n",
      "Abracadabra! Abraham Lincoln h\n",
      "             ----             \n",
      "incoln had a cadillac.\n",
      "             ---      \n"
     ]
    }
   ],
   "source": [
    "from nxp import Regex, Either, Many, make_cursor\n",
    "\n",
    "text = 'Abracadabra! Abraham Lincoln had a cadillac.'\n",
    "cursor = make_cursor(text)\n",
    "\n",
    "expr1 = Either( Regex('abra',case=True), Regex('cad') )\n",
    "expr2 = Either( Regex('abra',case=False), Regex('cad') )\n",
    "\n",
    "print('## CASE SENSITIVE ##')\n",
    "for match in Many(expr1).finditer(cursor.reset()):\n",
    "    print(match.insitu(cursor.buffer))\n",
    "    \n",
    "print('## CASE INSENSITIVE ##')\n",
    "for match in expr2.finditer(cursor.reset()):\n",
    "    print(match.insitu(cursor.buffer))"
   ]
  },
  {
   "cell_type": "markdown",
   "metadata": {},
   "source": [
    "There are two things to notice here:<br><br>\n",
    "\n",
    "- Firstly is the difference between the case-sensitive and case-insensitive results. As expected, the second expression matches the pattern `Abra` with a capital A, whereas the first expression does not.<br><br>\n",
    "\n",
    "- Secondly, notice that we used `Many` in the first case, which lead to matching contiguous occurrences of `expr1`. In contrast, notice how without using `Many` in the second example, `cad` and `abra` are now distinct matches. "
   ]
  }
 ],
 "metadata": {
  "kernelspec": {
   "display_name": "Python 3",
   "language": "python",
   "name": "python3"
  },
  "language_info": {
   "codemirror_mode": {
    "name": "ipython",
    "version": 3
   },
   "file_extension": ".py",
   "mimetype": "text/x-python",
   "name": "python",
   "nbconvert_exporter": "python",
   "pygments_lexer": "ipython3",
   "version": "3.6.8"
  }
 },
 "nbformat": 4,
 "nbformat_minor": 4
}
