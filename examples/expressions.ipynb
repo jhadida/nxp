{
 "cells": [
  {
   "cell_type": "code",
   "execution_count": 1,
   "metadata": {},
   "outputs": [],
   "source": [
    "# --- This is not needed if NXP is installed --- #\n",
    "import sys\n",
    "import os.path as op\n",
    "\n",
    "# add the src/ directory to the Python path\n",
    "sys.path.insert(0,op.realpath('../src'))"
   ]
  },
  {
   "cell_type": "markdown",
   "metadata": {},
   "source": [
    "\n",
    "# Matching expressions with NXP\n",
    "\n",
    "In this short tutorial, we will see how to define and match text patterns using NXP.\n"
   ]
  },
  {
   "cell_type": "code",
   "execution_count": 2,
   "metadata": {},
   "outputs": [],
   "source": [
    "import nxp"
   ]
  },
  {
   "cell_type": "markdown",
   "metadata": {},
   "source": [
    "## Matching numbers\n",
    "\n",
    "As a first example, we will try to find numbers in a given string. <br>\n",
    "Numbers in text are usually integers or floating-point numbers, so we first define a regular expression for each case separately:"
   ]
  },
  {
   "cell_type": "code",
   "execution_count": 3,
   "metadata": {},
   "outputs": [],
   "source": [
    "from nxp import Regex\n",
    "\n",
    "num_integer = Regex( r'-?\\d+' )\n",
    "num_float = Regex( r'-?\\d*\\.\\d+([eE][-+]?\\d+)?' )"
   ]
  },
  {
   "cell_type": "markdown",
   "metadata": {},
   "source": [
    "In order to match integers and floating-point numbers alike, these expressions need to be combined. To do so, we use the alias `Either`, which is equivalent to (but clearer than): `Set( [TokenList], max=1 )`"
   ]
  },
  {
   "cell_type": "code",
   "execution_count": 4,
   "metadata": {},
   "outputs": [
    {
     "name": "stdout",
     "output_type": "stream",
     "text": [
      "{-?\\d+, -?\\d*\\.\\d+([eE][-+]?\\d+)?}\n"
     ]
    }
   ],
   "source": [
    "from nxp import Either\n",
    "\n",
    "number = Either( num_integer, num_float )\n",
    "print(number) "
   ]
  },
  {
   "cell_type": "markdown",
   "metadata": {},
   "source": [
    "When printed, notice how the two patterns are regrouped within a curly-bracket delimited list; in NXP, token sets are represented with curly brackets `{}`, and sequences with square brackets `[]`.\n",
    "\n",
    "Great, now let's try to match a string with numbers in it!"
   ]
  },
  {
   "cell_type": "code",
   "execution_count": 5,
   "metadata": {},
   "outputs": [
    {
     "name": "stdout",
     "output_type": "stream",
     "text": [
      "[<nxp.expr.match.TMatch object at 0x7fd0602e6508>, <nxp.expr.match.TMatch object at 0x7fd063b61548>, <nxp.expr.match.TMatch object at 0x7fd06025b208>]\n"
     ]
    }
   ],
   "source": [
    "matches = nxp.findall( number, 'sqrt(2) is approximately equal to 1.414' )\n",
    "print(matches)"
   ]
  },
  {
   "cell_type": "markdown",
   "metadata": {},
   "source": [
    "Ok. That seems to have worked, but why are there 3 matches?"
   ]
  },
  {
   "cell_type": "code",
   "execution_count": 6,
   "metadata": {},
   "outputs": [
    {
     "name": "stdout",
     "output_type": "stream",
     "text": [
      "[0] (0, 5) - (0, 6) 2\n",
      "[0] (0, 34) - (0, 35) 1\n",
      "[0] (0, 35) - (0, 39) .414\n"
     ]
    }
   ],
   "source": [
    "for match in matches: \n",
    "    print(match)"
   ]
  },
  {
   "cell_type": "markdown",
   "metadata": {},
   "source": [
    "Hmm. It looks like the integer and decimal parts of `1.414` were matched separately.  Weird.\n",
    "\n",
    "We will find out what went wrong soon enough, but there is another issue: this printing isn't particularly useful, and what are these `[0]` at the beginning of each line? \n",
    "The string representation of the matches seems to be formatted as follows:\n",
    "```\n",
    "[0] position_begin - position_end text_matched\n",
    "```\n",
    "where the positions have the format `(line,col)`. That seems reasonable, except for the `[0]`, but it would be better to show the match within the surrounding text, wouldn't it? \n",
    "\n",
    "This actually leads to an important point: matches only carry restricted information in order to remain lightweight objects. In particular, they have no knowledge of the surrounding text. In order to have this information, it is necessary to provide the `Buffer` object that contains the entire text.\n",
    "\n",
    "_What buffer object? We just gave a string to nxp.findall!_\n",
    "\n",
    "Yes, but under the hood, a buffer had to be created in order to wrap this string, and to generate a cursor pointing to that buffer. This probably sounds more complicated than it is, but in short, if you want to show more information about your matches, here is what you should do:"
   ]
  },
  {
   "cell_type": "code",
   "execution_count": 7,
   "metadata": {},
   "outputs": [
    {
     "name": "stdout",
     "output_type": "stream",
     "text": [
      "Pattern: {-?\\d+, -?\\d*\\.\\d+([eE][-+]?\\d+)?}\n",
      "\t[0] sqrt(2) is approxim\n",
      "\t         -             \n",
      "Pattern: {-?\\d+, -?\\d*\\.\\d+([eE][-+]?\\d+)?}\n",
      "\t[0] ely equal to 1.414\n",
      "\t                 -    \n",
      "Pattern: {-?\\d+, -?\\d*\\.\\d+([eE][-+]?\\d+)?}\n",
      "\t[0] ly equal to 1.414\n",
      "\t                 ----\n"
     ]
    }
   ],
   "source": [
    "text = 'sqrt(2) is approximately equal to 1.414'\n",
    "cursor = nxp.make_cursor(text)\n",
    "matches = number.findall(cursor)\n",
    "\n",
    "for match in matches:\n",
    "    print(match.insitu(cursor.buffer))"
   ]
  },
  {
   "cell_type": "markdown",
   "metadata": {},
   "source": [
    "Notice the three main differences:\n",
    "\n",
    "1. We had to manually create a cursor for the text, using `nxp.make_cursor()`.\n",
    "2. We used the token directly in order to find matches `number.findall(cursor)`, instead of calling `nxp.findall( number, text )`.\n",
    "3. Detailed information about the match is provided by the method `match.insitu(buffer)`.\n",
    "\n",
    "Now about the `[0]`: remember that a match can have **several** repetitions (see the [docs](https://jhadida.github.io/nxp/#/expr/intro?id=multiplicity)). So the reason we only see `[0]` here is simply that each of these 3 matches only captured a single occurrence of a number. We will see an example of matching with repetitions later on. <br> <br>\n",
    "\n",
    "Great, now that this is sorted, let us tackle the main question. **Why are there 3 matches?**\n",
    "\n",
    "Well, the documentation also says that tokens in a set are matched *sequentially*, i.e. in the order specified. This is NOT to say that the tokens _have to_ match in that order — and in fact they do not — but rather that we _check_ each of them in that order, one after the other. This is an important distinction to understand.\n",
    "\n",
    "Because of this, we can diagnose why the integer and decimal parts of `1.414` were matched separately: it is because the first token `num_integer` was able to match the integer part before `num_float` was checked, and by then the cursor had already moved on to `.414`, which is actually a valid floating-point number. Does that make sense?\n",
    "\n",
    "This teaches us an important lesson when combining patterns: **when successive tokens are susceptible to match overlapping strings, it is important to list them in the \"right\" order**. In our case, we just need to reorder the tokens within the set in order to fix the problem."
   ]
  },
  {
   "cell_type": "code",
   "execution_count": 8,
   "metadata": {},
   "outputs": [
    {
     "name": "stdout",
     "output_type": "stream",
     "text": [
      "Pattern: {-?\\d*\\.\\d+([eE][-+]?\\d+)?, -?\\d+}\n",
      "\t[0] sqrt(2) is approxim\n",
      "\t         -             \n",
      "Pattern: {-?\\d*\\.\\d+([eE][-+]?\\d+)?, -?\\d+}\n",
      "\t[0] ely equal to 1.414\n",
      "\t                 -----\n"
     ]
    }
   ],
   "source": [
    "number = Either( num_float, num_integer )\n",
    "matches = number.findall( cursor.reset() )\n",
    "\n",
    "for match in matches:\n",
    "    print(match.insitu(cursor.buffer))"
   ]
  },
  {
   "cell_type": "markdown",
   "metadata": {},
   "source": [
    "If you feel like practicing on a more complicated example, try to write an expression to capture numbers in scientific notation.<br>\n",
    "E.g.: `\"The Avogadro constant is exactly equal to 6.022 140 76×10^23\"`"
   ]
  },
  {
   "cell_type": "markdown",
   "metadata": {},
   "source": [
    "## With repetitions"
   ]
  },
  {
   "cell_type": "markdown",
   "metadata": {},
   "source": [
    "One of the weird things with the previous example was the presence of a `[0]` prefix when printing the matches. We said that this was because each match has its own *multiplicity*, which allows for contiguous repetitions of the same pattern (see the [docs](https://jhadida.github.io/nxp/#/expr/intro?id=multiplicity)).\n",
    "\n",
    "In order to allow a pattern to match several times (once or more) in NXP, we can use the alias `Many`:"
   ]
  },
  {
   "cell_type": "code",
   "execution_count": 9,
   "metadata": {},
   "outputs": [
    {
     "name": "stdout",
     "output_type": "stream",
     "text": [
      "Pattern: chuck\\s*\n",
      "\t[0]  would a woodchuck chuck if a wo\n",
      "\t                 ------             \n",
      "\t[1]  a woodchuck chuck if a woodchuc\n",
      "\t                 ------             \n",
      "Pattern: chuck\\s*\n",
      "\t[0] uck if a woodchuck could chuck w\n",
      "\t                 ------             \n",
      "Pattern: chuck\\s*\n",
      "\t[0] dchuck could chuck wood?\n",
      "\t                 ------     \n"
     ]
    }
   ],
   "source": [
    "from nxp import Regex, Many, make_cursor\n",
    "\n",
    "text = 'How much wood would a woodchuck chuck if a woodchuck could chuck wood?'\n",
    "cursor = make_cursor(text)\n",
    "expr = Regex( r'chuck\\s*' )\n",
    "\n",
    "for match in Many(expr).finditer(cursor):\n",
    "    print(match.insitu(cursor.buffer))"
   ]
  },
  {
   "cell_type": "markdown",
   "metadata": {},
   "source": [
    "Notice how the first match now has _two_ repetitions of the pattern, listed with `[0]` and `[1]`. It is important to understand the difference between multiple matches, and the multiplicity of a match; in practice, both will often be possible, and it will be up to you to specify which output you expect.\n",
    "\n",
    "Finally, just note that using `Many(token)` doesn't actually change the input token, but instead creates a new one with multiplicity `'1+'`. You can check this by looking at the `mul` property:"
   ]
  },
  {
   "cell_type": "code",
   "execution_count": 10,
   "metadata": {},
   "outputs": [
    {
     "name": "stdout",
     "output_type": "stream",
     "text": [
      "[(1, 1)]\n",
      "[(1, inf)]\n"
     ]
    }
   ],
   "source": [
    "print(expr.mul)\n",
    "print(Many(expr).mul)"
   ]
  },
  {
   "cell_type": "markdown",
   "metadata": {},
   "source": [
    "## Case insensitive"
   ]
  },
  {
   "cell_type": "markdown",
   "metadata": {},
   "source": [
    "This last example illustrates how to create case-insensitive patterns (by default, patterns are case-sensitive), and we also use this opportunity to emphasize once more the difference between multiple matches, and the multiplicity of a match:"
   ]
  },
  {
   "cell_type": "code",
   "execution_count": 11,
   "metadata": {},
   "outputs": [
    {
     "name": "stdout",
     "output_type": "stream",
     "text": [
      "## CASE SENSITIVE ##\n",
      "Pattern: {abra, cad}\n",
      "\t[0] Abracadabra! Abraham\n",
      "\t        ---             \n",
      "\t[1] Abracadabra! Abraham Lin\n",
      "\t           ----             \n",
      "Pattern: {abra, cad}\n",
      "\t[0] incoln had a cadillac.\n",
      "\t                 ---      \n",
      "## CASE INSENSITIVE ##\n",
      "Pattern: {abra, cad}\n",
      "\t[0] Abracadabra! Abra\n",
      "\t    ----             \n",
      "Pattern: {abra, cad}\n",
      "\t[0] Abracadabra! Abraham\n",
      "\t        ---             \n",
      "Pattern: {abra, cad}\n",
      "\t[0] Abracadabra! Abraham Lin\n",
      "\t           ----             \n",
      "Pattern: {abra, cad}\n",
      "\t[0] Abracadabra! Abraham Lincoln h\n",
      "\t                 ----             \n",
      "Pattern: {abra, cad}\n",
      "\t[0] incoln had a cadillac.\n",
      "\t                 ---      \n"
     ]
    }
   ],
   "source": [
    "from nxp import Regex, Either, Many, make_cursor\n",
    "\n",
    "text = 'Abracadabra! Abraham Lincoln had a cadillac.'\n",
    "cursor = make_cursor(text)\n",
    "\n",
    "expr1 = Either( Regex('abra',case=True), Regex('cad') )\n",
    "expr2 = Either( Regex('abra',case=False), Regex('cad') )\n",
    "\n",
    "print('## CASE SENSITIVE ##')\n",
    "for match in Many(expr1).finditer(cursor.reset()):\n",
    "    print(match.insitu(cursor.buffer))\n",
    "    \n",
    "print('## CASE INSENSITIVE ##')\n",
    "for match in expr2.finditer(cursor.reset()):\n",
    "    print(match.insitu(cursor.buffer))"
   ]
  },
  {
   "cell_type": "markdown",
   "metadata": {},
   "source": [
    "There are two things to notice here:<br><br>\n",
    "\n",
    "- Firstly is the difference between the case-sensitive and case-insensitive results. As expected, the second expression matches the pattern `Abra` with a capital A, whereas the first expression does not.<br><br>\n",
    "\n",
    "- Secondly, notice that we used the modifier `Many` in the first case, and since the first two matches are contiguous in the text, they were regrouped as successive repetitions of the same pattern. In contrast, notice how without using `Many` in the second example, the first three matches are distinct, even though they are contiguous in the text. As I said before, it will be up to you in practice to decide which output you want depending on the situation."
   ]
  }
 ],
 "metadata": {
  "kernelspec": {
   "display_name": "Python 3",
   "language": "python",
   "name": "python3"
  },
  "language_info": {
   "codemirror_mode": {
    "name": "ipython",
    "version": 3
   },
   "file_extension": ".py",
   "mimetype": "text/x-python",
   "name": "python",
   "nbconvert_exporter": "python",
   "pygments_lexer": "ipython3",
   "version": "3.6.8"
  }
 },
 "nbformat": 4,
 "nbformat_minor": 4
}
