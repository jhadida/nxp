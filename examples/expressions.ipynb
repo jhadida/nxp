{
 "cells": [
  {
   "cell_type": "markdown",
   "metadata": {},
   "source": [
    "# Matching expressions with NXP\n",
    "\n",
    "In this short tutorial, we will see how to match expressions using NXP."
   ]
  },
  {
   "cell_type": "code",
   "execution_count": 1,
   "metadata": {},
   "outputs": [],
   "source": [
    "# --- This is not needed if NXP is installed --- #\n",
    "\n",
    "# add the src/ directory to the Python path\n",
    "import sys\n",
    "import os.path as op\n",
    "sys.path.insert(0,op.realpath('../src'))"
   ]
  },
  {
   "cell_type": "code",
   "execution_count": 2,
   "metadata": {},
   "outputs": [],
   "source": [
    "import nxp"
   ]
  },
  {
   "cell_type": "markdown",
   "metadata": {},
   "source": [
    "## Matching numbers\n",
    "\n",
    "As a first example, we will try to find numbers in a given string. \n",
    "Numbers in text are usually integers or floating-point numbers, so we first define regular expression for both cases:"
   ]
  },
  {
   "cell_type": "code",
   "execution_count": 3,
   "metadata": {},
   "outputs": [],
   "source": [
    "from nxp import Regex\n",
    "\n",
    "num_integer = Regex( r'-?\\d+' )\n",
    "num_float = Regex( r'-?\\d*\\.\\d+([eE][-+]?\\d+)?' )"
   ]
  },
  {
   "cell_type": "markdown",
   "metadata": {},
   "source": [
    "In order to match integers and floating-point numbers alike, these expressions need to be combined, e.g. using the alias `Either`."
   ]
  },
  {
   "cell_type": "code",
   "execution_count": 4,
   "metadata": {},
   "outputs": [
    {
     "name": "stdout",
     "output_type": "stream",
     "text": [
      "{-?\\d+, -?\\d*\\.\\d+([eE][-+]?\\d+)?}\n"
     ]
    }
   ],
   "source": [
    "from nxp import Either\n",
    "\n",
    "number = Either( num_integer, num_float )\n",
    "\n",
    "# equivalent to (but clearer than): \n",
    "# number = nxp.Set( [num_integer, num_float], max=1 )\n",
    "\n",
    "print(number) # sets are represented with {}, and sequences with []"
   ]
  },
  {
   "cell_type": "markdown",
   "metadata": {},
   "source": [
    "Great, now let's try to match a string with numbers in it!"
   ]
  },
  {
   "cell_type": "code",
   "execution_count": 5,
   "metadata": {},
   "outputs": [
    {
     "name": "stdout",
     "output_type": "stream",
     "text": [
      "[<nxp.expr.match.TElement object at 0x7fce1f1251c8>, <nxp.expr.match.TElement object at 0x7fce1f057488>, <nxp.expr.match.TElement object at 0x7fce0ef19d88>]\n"
     ]
    }
   ],
   "source": [
    "matches = nxp.findall( number, 'sqrt(2) is approximately equal to 1.414' )\n",
    "print(matches)"
   ]
  },
  {
   "cell_type": "markdown",
   "metadata": {},
   "source": [
    "Ok. That seems to have worked, but why are there 3 matches?"
   ]
  },
  {
   "cell_type": "code",
   "execution_count": 6,
   "metadata": {},
   "outputs": [
    {
     "name": "stdout",
     "output_type": "stream",
     "text": [
      "[0] (0, 5) - (0, 6) 2\n",
      "[0] (0, 34) - (0, 35) 1\n",
      "[0] (0, 35) - (0, 39) .414\n"
     ]
    }
   ],
   "source": [
    "for match in matches: \n",
    "    print(match)"
   ]
  },
  {
   "cell_type": "markdown",
   "metadata": {},
   "source": [
    "Hmm. It looks like the integer and decimal parts of `1.414` were matched separately.  Weird.\n",
    "\n",
    "We will find out what went wrong soon enough, but there is another issue: this printing isn't particularly useful, and what are these `[0]` at the beginning of each line? \n",
    "The string representation of the matches seems to be formatted as follows:\n",
    "```\n",
    "[0] position_begin - position_end text_matched\n",
    "```\n",
    "where the positions have the format `(line,col)`. That seems fairly reasonable, apart from the `[0]`, but it would be better to show the match within the surrounding text, wouldn't it? \n",
    "\n",
    "This actually leads to an important point: matches only carry a minimum amount of information in order to remain lightweight objects. In particular, they have no knowledge of the surrounding text. In order to have this information, it is necessary to provide the `Buffer` object that contains the entire text.\n",
    "\n",
    "_What buffer object? We just gave a string to nxp.findall!_\n",
    "\n",
    "Yes, but under the hood, a buffer had to be created in order to wrap this string, and to generate a cursor pointing to that buffer. This probably sounds more complicated than it is, but in short, if you want to show more information about your matches, here is what you should do instead:"
   ]
  },
  {
   "cell_type": "code",
   "execution_count": 7,
   "metadata": {},
   "outputs": [
    {
     "name": "stdout",
     "output_type": "stream",
     "text": [
      "Pattern: {-?\\d+, -?\\d*\\.\\d+([eE][-+]?\\d+)?}\n",
      "\t[0] sqrt(2) is approxim\n",
      "\t         -             \n",
      "Pattern: {-?\\d+, -?\\d*\\.\\d+([eE][-+]?\\d+)?}\n",
      "\t[0] ely equal to 1.414\n",
      "\t                 -    \n",
      "Pattern: {-?\\d+, -?\\d*\\.\\d+([eE][-+]?\\d+)?}\n",
      "\t[0] ly equal to 1.414\n",
      "\t                 ----\n"
     ]
    }
   ],
   "source": [
    "text = 'sqrt(2) is approximately equal to 1.414'\n",
    "cursor = nxp.make_cursor(text)\n",
    "matches = number.findall( cursor )\n",
    "\n",
    "for match in matches:\n",
    "    print(match.insitu(cursor.buffer))"
   ]
  },
  {
   "cell_type": "markdown",
   "metadata": {},
   "source": [
    "Notice the three main differences:\n",
    "\n",
    "1. We had to manually create a cursor for the text, using `nxp.make_cursor()`.\n",
    "2. We used the token directly in order to find matches `number.findall( cursor )`, instead of calling `nxp.findall( token, text )`.\n",
    "3. The information about the match is now provided by the method `match.insitu( cursor )`.\n",
    "\n",
    "Now about the `[0]`: remember that a match can have **several** repetitions (see the [docs]()). So the reason we only see `[0]` here is simply that each of the three matches only captured a single instance of a number. We will see an example of matching with repetitions later on.\n",
    "\n",
    "Great, now that we have cleared this up, let us tackle the main question. **Why are there 3 matches?**\n",
    "\n",
    "Well, the documentation also says that tokens in a set are matched *sequentially*, in the order specified. This is NOT to say that the tokens _have to_ match in that order — and in fact they do not — but rather that we _check_ each of them, one after the other, in the order specified. This is an important distinction.\n",
    "\n",
    "The reason for the split is that the first token overlaps with the beginning of the second token. To fix the problem, we just need to reorder the tokens within the set."
   ]
  },
  {
   "cell_type": "code",
   "execution_count": 8,
   "metadata": {},
   "outputs": [
    {
     "name": "stdout",
     "output_type": "stream",
     "text": [
      "Pattern: {-?\\d*\\.\\d+([eE][-+]?\\d+)?, -?\\d+}\n",
      "\t[0] sqrt(2) is approxim\n",
      "\t         -             \n",
      "Pattern: {-?\\d*\\.\\d+([eE][-+]?\\d+)?, -?\\d+}\n",
      "\t[0] ely equal to 1.414\n",
      "\t                 -----\n"
     ]
    }
   ],
   "source": [
    "number = Either( num_float, num_integer )\n",
    "matches = number.findall( cursor.reset() )\n",
    "\n",
    "for match in matches:\n",
    "    print(match.insitu(cursor.buffer))"
   ]
  },
  {
   "cell_type": "markdown",
   "metadata": {},
   "source": [
    "## Matching with repetitions"
   ]
  },
  {
   "cell_type": "code",
   "execution_count": 9,
   "metadata": {},
   "outputs": [
    {
     "name": "stdout",
     "output_type": "stream",
     "text": [
      "Pattern: chuck\\s*\n",
      "\t[0]  would a woodchuck chuck if a wo\n",
      "\t                 ------             \n",
      "\t[1]  a woodchuck chuck if a woodchuc\n",
      "\t                 ------             \n",
      "Pattern: chuck\\s*\n",
      "\t[0] uck if a woodchuck could chuck w\n",
      "\t                 ------             \n",
      "Pattern: chuck\\s*\n",
      "\t[0] dchuck could chuck wood?\n",
      "\t                 ------     \n"
     ]
    }
   ],
   "source": [
    "from nxp import Regex, Many, make_cursor\n",
    "\n",
    "text = 'How much wood would a woodchuck chuck if a woodchuck could chuck wood?'\n",
    "cursor = make_cursor(text)\n",
    "expr = Regex( r'chuck\\s*' )\n",
    "\n",
    "for match in Many(expr).finditer(cursor):\n",
    "    print(match.insitu(cursor.buffer))"
   ]
  },
  {
   "cell_type": "markdown",
   "metadata": {},
   "source": [
    "Notice the `[1]` due to the repetition."
   ]
  }
 ],
 "metadata": {
  "kernelspec": {
   "display_name": "Python 3",
   "language": "python",
   "name": "python3"
  },
  "language_info": {
   "codemirror_mode": {
    "name": "ipython",
    "version": 3
   },
   "file_extension": ".py",
   "mimetype": "text/x-python",
   "name": "python",
   "nbconvert_exporter": "python",
   "pygments_lexer": "ipython3",
   "version": "3.6.8"
  }
 },
 "nbformat": 4,
 "nbformat_minor": 4
}
