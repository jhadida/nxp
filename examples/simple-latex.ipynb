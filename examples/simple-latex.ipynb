{
 "cells": [
  {
   "cell_type": "code",
   "execution_count": 1,
   "metadata": {},
   "outputs": [],
   "source": [
    "# --- This is to customise the notebook's appearance --- #\n",
    "# Dependency: conda install -c conda-forge jupyterthemes\n",
    "# More information: !jt --help\n",
    "# See also: https://github.com/dunovank/jupyter-themes\n",
    "try:\n",
    "    !jt -N -t onedork -tf merriserif -fs 10 -tfs 12 -ofs 10 -mathfs 105 -altmd\n",
    "except:\n",
    "    pass"
   ]
  },
  {
   "cell_type": "code",
   "execution_count": 2,
   "metadata": {},
   "outputs": [],
   "source": [
    "# --- This is not needed if NXP is installed --- #\n",
    "import sys\n",
    "import os.path as op\n",
    "\n",
    "# add the src/ directory to the Python path\n",
    "sys.path.insert(0,op.realpath('../src'))"
   ]
  },
  {
   "cell_type": "markdown",
   "metadata": {},
   "source": [
    "# README example\n",
    "\n",
    "This is the example of a simple LaTeX-like language provided in the README file of NXP."
   ]
  },
  {
   "cell_type": "code",
   "execution_count": 3,
   "metadata": {},
   "outputs": [
    {
     "name": "stdout",
     "output_type": "stream",
     "text": [
      "Inspirational quote:\n",
      "\\quote{\n",
      "    Time you enjoy wasting is \\it{not} wasted time.\n",
      "}\n",
      "\n",
      "Command without a body \\command, or with an empty one \\command{}.\n"
     ]
    }
   ],
   "source": [
    "with open('simple-latex.txt') as fh:\n",
    "    print(fh.read())"
   ]
  },
  {
   "cell_type": "code",
   "execution_count": 4,
   "metadata": {},
   "outputs": [
    {
     "name": "stdout",
     "output_type": "stream",
     "text": [
      "+ Scope(\"main\"): 3 element(s)\n",
      "\t[0] Scope(\"command\"): 2 element(s)\n",
      "\t\t[0] \\\\(\\w+)\n",
      "\t\t\t(0) (1, 0) - (1, 6) \\quote\n",
      "\t\t[1] Scope(\"command.body\"): 3 element(s)\n",
      "\t\t\t[0] \\{\n",
      "\t\t\t\t(0) (1, 6) - (1, 7) {\n",
      "\t\t\t[1] Scope(\"command\"): 2 element(s)\n",
      "\t\t\t\t[0] \\\\(\\w+)\n",
      "\t\t\t\t\t(0) (2, 30) - (2, 33) \\it\n",
      "\t\t\t\t[1] Scope(\"command.body\"): 2 element(s)\n",
      "\t\t\t\t\t[0] \\{\n",
      "\t\t\t\t\t\t(0) (2, 33) - (2, 34) {\n",
      "\t\t\t\t\t[1] \\}\n",
      "\t\t\t\t\t\t(0) (2, 37) - (2, 38) }\n",
      "\t\t\t[2] \\}\n",
      "\t\t\t\t(0) (3, 0) - (3, 1) }\n",
      "\t[1] Scope(\"command\"): 1 element(s)\n",
      "\t\t[0] \\\\(\\w+)\n",
      "\t\t\t(0) (5, 23) - (5, 31) \\command\n",
      "\t[2] Scope(\"command\"): 2 element(s)\n",
      "\t\t[0] \\\\(\\w+)\n",
      "\t\t\t(0) (5, 54) - (5, 62) \\command\n",
      "\t\t[1] Scope(\"command.body\"): 2 element(s)\n",
      "\t\t\t[0] \\{\n",
      "\t\t\t\t(0) (5, 62) - (5, 63) {\n",
      "\t\t\t[1] \\}\n",
      "\t\t\t\t(0) (5, 63) - (5, 64) }\n"
     ]
    }
   ],
   "source": [
    "import nxp\n",
    "\n",
    "# define these rules separately so they can be re-used\n",
    "backslash = [ r'\\\\\\\\', ('rep','\\\\') ] \n",
    "command = [ r'\\\\(\\w+)', ('open','command'), ('tag','cmd') ] \n",
    "\n",
    "# create a parser\n",
    "parser = nxp.make_parser({\n",
    "\t'lang': {\n",
    "\t\t'main': [\n",
    "\t\t\tbackslash,  # replace escaped backslashes\n",
    "\t\t\tcommand     # open \"command\" scope if we find something like '\\word'\n",
    "\t\t],\n",
    "\t\t'command': { # the \"command\" scope\n",
    "\t\t\t'main': [\n",
    "\t\t\t\t[ r'\\{', ('open','command.body'), ('tag','body') ],\n",
    "\t\t\t\t\t# open \"body\" subscope if command is followed by '{'\n",
    "\t\t\t\t[ None, 'close' ] \n",
    "\t\t\t\t\t# otherwise close the scope\n",
    "\t\t\t],\n",
    "\t\t\t'body': [ # the \"command.body\" scope\n",
    "\t\t\t\tbackslash,\n",
    "\t\t\t\t[ r'\\\\\\{', ('rep','{') ],\n",
    "\t\t\t\t[ r'\\\\\\}', ('rep','}') ],\n",
    "\t\t\t\t\t# deal with escapes before looking for a nested command\n",
    "\t\t\t\tcommand, \n",
    "\t\t\t\t\t# look for nested commands\n",
    "\t\t\t\t[ r'\\}', ('tag','/body'), ('close',2) ]\n",
    "\t\t\t\t\t# the command ends when the body ends: close both scopes\n",
    "\t\t\t]\n",
    "\t\t}\n",
    "\t}\n",
    "})\n",
    "\n",
    "print(nxp.parsefile( parser, 'simple-latex.txt' ))"
   ]
  }
 ],
 "metadata": {
  "kernelspec": {
   "display_name": "Python 3",
   "language": "python",
   "name": "python3"
  },
  "language_info": {
   "codemirror_mode": {
    "name": "ipython",
    "version": 3
   },
   "file_extension": ".py",
   "mimetype": "text/x-python",
   "name": "python",
   "nbconvert_exporter": "python",
   "pygments_lexer": "ipython3",
   "version": "3.6.8"
  }
 },
 "nbformat": 4,
 "nbformat_minor": 4
}
