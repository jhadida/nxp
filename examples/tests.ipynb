{
 "cells": [
  {
   "cell_type": "code",
   "execution_count": 1,
   "metadata": {},
   "outputs": [],
   "source": [
    "# --- This is not needed if NXP is installed --- #\n",
    "import sys\n",
    "import os.path as op\n",
    "\n",
    "# add the src/ directory to the Python path\n",
    "sys.path.insert(0,op.realpath('../src'))\n",
    "import nxp"
   ]
  },
  {
   "cell_type": "markdown",
   "metadata": {},
   "source": [
    "## Fenced expressions"
   ]
  },
  {
   "cell_type": "markdown",
   "metadata": {},
   "source": [
    "### Identical boundaries"
   ]
  },
  {
   "cell_type": "code",
   "execution_count": 2,
   "metadata": {},
   "outputs": [
    {
     "name": "stdout",
     "output_type": "stream",
     "text": [
      "normal |foo|, non-empty |\n",
      "       -----             \n",
      ", non-empty || |, escaped |\\|\n",
      "             ---             \n",
      "| |, escaped |\\||\n",
      "             ----\n"
     ]
    }
   ],
   "source": [
    "# change an option to see how it affects the results\n",
    "p = nxp.Fenced( '|', esc=True, empty=False )\n",
    "c = nxp.make_cursor('normal |foo|, non-empty || |, escaped |\\||')\n",
    "\n",
    "for m in p.findall(c): print(m.insitu(c.buffer))"
   ]
  },
  {
   "cell_type": "markdown",
   "metadata": {},
   "source": [
    "- With `empty=False`, the non-empty segment is matched as `| |`, and **not** `|| |`. The first `|` is consumed by the cursor as a failed match, because `||` is invalid.\n",
    "\n",
    "- The results with `empty=True` are the same regardless of `esc`. In particular with `esc=True`, the last match is `||`, even though it is _preceded_ by `\\`. Since the backslash is outside the match, it is not considered as an escape character."
   ]
  },
  {
   "cell_type": "markdown",
   "metadata": {},
   "source": [
    "### Different L/R boundaries"
   ]
  },
  {
   "cell_type": "code",
   "execution_count": 3,
   "metadata": {},
   "outputs": [
    {
     "name": "stdout",
     "output_type": "stream",
     "text": [
      "normal (foo), non-empty (\n",
      "       -----             \n",
      "()), escaped (\\))\n",
      "             ----\n"
     ]
    }
   ],
   "source": [
    "p = nxp.Fenced( ('(',')'), esc=True, empty=False )\n",
    "c = nxp.make_cursor('normal (foo), non-empty ()), escaped (\\))')\n",
    "\n",
    "for m in p.findall(c): print(m.insitu(c.buffer))"
   ]
  },
  {
   "cell_type": "markdown",
   "metadata": {},
   "source": [
    "### Word boundaries"
   ]
  },
  {
   "cell_type": "code",
   "execution_count": 4,
   "metadata": {},
   "outputs": [
    {
     "name": "stdout",
     "output_type": "stream",
     "text": [
      "normal \\leftfoo\\right, empty \\left\n",
      "       --------------             \n",
      "right, empty \\left\\right\\right, parti\n",
      "             -----------             \n",
      "ght, partial \\left\\ri\\right\n",
      "             --------------\n"
     ]
    }
   ],
   "source": [
    "# with larger boundaries\n",
    "p = nxp.Fenced( ('\\\\left','\\\\right'), esc=False, empty=True )\n",
    "c = nxp.make_cursor('normal \\\\leftfoo\\\\right, empty \\\\left\\\\right\\\\right, partial \\\\left\\\\ri\\\\right')\n",
    "\n",
    "for m in p.findall(c): print(m.insitu(c.buffer))"
   ]
  },
  {
   "cell_type": "markdown",
   "metadata": {},
   "source": [
    "Fenced expressions with boundaries that are larger than single characters cannot use `esc=True`."
   ]
  },
  {
   "cell_type": "markdown",
   "metadata": {},
   "source": [
    "## Multiplicities"
   ]
  },
  {
   "cell_type": "code",
   "execution_count": 5,
   "metadata": {},
   "outputs": [
    {
     "name": "stdout",
     "output_type": "stream",
     "text": [
      "1: [(1, 1)]\n",
      "2: [(2, 2)]\n",
      "1: [(1, 1)]\n",
      "1-3: [(1, 3)]\n",
      "2-5: [(2, 5)]\n",
      "4+: [(4, inf)]\n",
      "5-: [(0, 5)]\n",
      "(3, 7): [(3, 7)]\n",
      "[1, '2-5']: [(1, 1), (2, 5)]\n",
      "range(3, 7, 2): range(3, 7, 2)\n"
     ]
    }
   ],
   "source": [
    "test = [ 1, 2, '1', '1-3', '2-5','4+', '5-', (3,7), [1,'2-5'], range(3,7,2) ]\n",
    "\n",
    "for t in test: \n",
    "    print('%s: %s' % (t,nxp.mulparse(t)))\n"
   ]
  },
  {
   "cell_type": "markdown",
   "metadata": {},
   "source": [
    "## HTML tags"
   ]
  },
  {
   "cell_type": "code",
   "execution_count": 6,
   "metadata": {},
   "outputs": [
    {
     "name": "stdout",
     "output_type": "stream",
     "text": [
      "Not <a><tag</a> <inp\n",
      "    ---             \n",
      "Not <a><tag</a> <input type=\n",
      "           ----             \n",
      " <a><tag</a> <input type=\"checkbox\" value=\"42\" checked> <img src=\"fo\n",
      "             ------------------------------------------             \n",
      "42\" checked> <img src=\"foo/bar.jpg\" />\n",
      "             -------------------------\n"
     ]
    }
   ],
   "source": [
    "from nxp import Seq, String, Either, Any\n",
    "\n",
    "# property name, optionally assigned a value between quotes\n",
    "attr = Seq( [r'\\s+(\\w+)', Seq([ r'\\s*=\\s*', String() ])], skip=1 )\n",
    "\n",
    "# open/close tags, or self-closed tag\n",
    "tag = Either(\n",
    "    Seq( [r'<(\\w+)', Any(attr), r'\\s*/?>'] ), \n",
    "    r'</(\\w+)\\s*>'\n",
    ")\n",
    "\n",
    "# create cursor and find matches\n",
    "cur = nxp.make_cursor(' '.join([\n",
    "    'Not <a><tag</a>',\n",
    "    '<input type=\"checkbox\" value=\"42\" checked>',\n",
    "    '<img src=\"foo/bar.jpg\" />'\n",
    "]))\n",
    "\n",
    "for m in tag.findall(cur): print(m.insitu(cur.buffer))"
   ]
  },
  {
   "cell_type": "code",
   "execution_count": null,
   "metadata": {},
   "outputs": [],
   "source": []
  }
 ],
 "metadata": {
  "kernelspec": {
   "display_name": "Python 3",
   "language": "python",
   "name": "python3"
  },
  "language_info": {
   "codemirror_mode": {
    "name": "ipython",
    "version": 3
   },
   "file_extension": ".py",
   "mimetype": "text/x-python",
   "name": "python",
   "nbconvert_exporter": "python",
   "pygments_lexer": "ipython3",
   "version": "3.6.8"
  }
 },
 "nbformat": 4,
 "nbformat_minor": 4
}
