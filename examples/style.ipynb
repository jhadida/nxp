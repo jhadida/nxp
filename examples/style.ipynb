{
 "cells": [
  {
   "cell_type": "code",
   "execution_count": 1,
   "metadata": {},
   "outputs": [],
   "source": [
    "# --- This is to customise the notebook's appearance --- #\n",
    "# Dependency: conda install -c conda-forge jupyterthemes\n",
    "# More information: !jt --help\n",
    "# See also: https://github.com/dunovank/jupyter-themes\n",
    "try:\n",
    "    !jt -N -t onedork -tf merriserif -fs 10 -tfs 12 -ofs 10 -mathfs 105 -altmd\n",
    "except:\n",
    "    pass"
   ]
  }
 ],
 "metadata": {
  "kernelspec": {
   "display_name": "Python 3",
   "language": "python",
   "name": "python3"
  },
  "language_info": {
   "codemirror_mode": {
    "name": "ipython",
    "version": 3
   },
   "file_extension": ".py",
   "mimetype": "text/x-python",
   "name": "python",
   "nbconvert_exporter": "python",
   "pygments_lexer": "ipython3",
   "version": "3.6.8"
  }
 },
 "nbformat": 4,
 "nbformat_minor": 4
}
